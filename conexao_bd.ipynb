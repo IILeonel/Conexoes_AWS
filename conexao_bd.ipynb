{
 "cells": [
  {
   "cell_type": "markdown",
   "metadata": {
    "id": "sJfBB6Sdi82s"
   },
   "source": [
    "# **CONECTANDO AO BANCO DE DADOS USANDO PYTHON**\n",
    "---\n",
    "SQLSCHEMY - Framework de mapeamento objeto-relacional SQL (ORM) de código aberto sobre a licença MIT. ORM é uma técnica de programação que auxilia na conversão de dados entre banco de dados relacionais e linguagens de programação que são orientadas à objetos."
   ]
  },
  {
   "cell_type": "code",
   "execution_count": null,
   "metadata": {
    "id": "ts6N6FYYiuNe"
   },
   "outputs": [],
   "source": [
    "#CASO ESTEJA RODANDO PLEO COLAB, É NECESSARIO INSTALAR O DRIVER ABAIXO. CASO ESTEJA RODANDO NO JUPYTER, NÃO PRECISA. \n",
    "%%sh\n",
    "curl https://packages.microsoft.com/keys/microsoft.asc | apt-key add -\n",
    "curl https://packages.microsoft.com/config/ubuntu/16.04/prod.list > /etc/apt/sources.list.d/mssql-release.list\n",
    "sudo apt-get update\n",
    "sudo ACCEPT_EULA=Y apt-get -q -y install msodbcsql17\n",
    "sudo pip install pyodbc\n",
    "sudo pip install sqlalchemy\n",
    "pip install pyodbc\n",
    "pip install boto3"
   ]
  },
  {
   "cell_type": "code",
   "execution_count": null,
   "metadata": {
    "id": "j8h1GwcUjDCz"
   },
   "outputs": [],
   "source": [
    "import pyodbc, pandas as pd,json,boto3,io,decimal,datetime,os,sqlalchemy"
   ]
  },
  {
   "cell_type": "code",
   "execution_count": null,
   "metadata": {
    "id": "bt5NlGSbjE7d"
   },
   "outputs": [],
   "source": [
    "#Servidor de banco de dados\n",
    "server = \"teste.amazonaws.com\" \n",
    "#Nome da base de dados\n",
    "database = \"nome do banco\"\n",
    "#Usuario\n",
    "username = \"usuario\"\n",
    "#Senha\n",
    "password = \"senha\"\n",
    "#Exemplo de conexão sql usando usuario e senha\n",
    "con1 = f\"mssql+pyodbc://{username}:{password}@{server}/{database}?driver=ODBC Driver 17 for SQL Server\"\n",
    "engine = sqlalchemy.create_engine(con1)\n",
    "engine.connect()"
   ]
  },
  {
   "cell_type": "markdown",
   "metadata": {
    "id": "JNq76ENpjPqy"
   },
   "source": [
    "Ok, Após criarmos a conexão com o banco, vamos fazer uma simples consulta para verificarmos se esta tudo funcionando como o planejado. "
   ]
  },
  {
   "cell_type": "code",
   "execution_count": null,
   "metadata": {
    "id": "GeRilx_kjwFd"
   },
   "outputs": [],
   "source": [
    "#APOS CONECTAR O BANCO, ABAIXO TEMOS COMO FAZER UMA CONSULTA:\n",
    "select = \"SELECT * FROM CLIENTE WHERE DATA_CADASTRO = '2021-03-01'\"\n",
    "requisicao = pd.read_sql(select, engine)\n",
    "requisicao.head(10)"
   ]
  }
 ],
 "metadata": {
  "colab": {
   "collapsed_sections": [],
   "name": "conexao_bd.ipynb",
   "provenance": []
  },
  "kernelspec": {
   "display_name": "Python 3",
   "language": "python",
   "name": "python3"
  },
  "language_info": {
   "codemirror_mode": {
    "name": "ipython",
    "version": 3
   },
   "file_extension": ".py",
   "mimetype": "text/x-python",
   "name": "python",
   "nbconvert_exporter": "python",
   "pygments_lexer": "ipython3",
   "version": "3.7.3"
  }
 },
 "nbformat": 4,
 "nbformat_minor": 1
}
