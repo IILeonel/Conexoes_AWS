{
 "cells": [
  {
   "cell_type": "markdown",
   "metadata": {
    "id": "b291u8jEpZI_"
   },
   "source": [
    "# **S3, Bucket, Resoucer**\n",
    "---\n",
    "Boto3 é um SDK da AWS para desenvolvimento em python. SDK (software developer kit) trata-se um conjunto de ferramentas e programas utilizados por desenvolvedores como base para construir algo de acordo com a sua necessidade. Documentação: https://boto3.amazonaws.com/v1/documentation/api/latest/index.html"
   ]
  },
  {
   "cell_type": "code",
   "execution_count": null,
   "metadata": {
    "id": "ZQU2d899pOKy"
   },
   "outputs": [],
   "source": [
    "#CASO ESTEJA NO COLAB, É IMPORTANTE INSTALAR O BOTO3\n",
    "%%sh\n",
    "pip install boto3"
   ]
  },
  {
   "cell_type": "markdown",
   "metadata": {
    "id": "fS5SIATvqTeG"
   },
   "source": [
    "Vamos importar a biblioteca boto3 e a biblioteca pandas para poder conectar e ler arquivos no que estão armazenados no S3 na AWS."
   ]
  },
  {
   "cell_type": "code",
   "execution_count": null,
   "metadata": {
    "id": "JgAhBwrLqMtE"
   },
   "outputs": [],
   "source": [
    "import boto3, pandas as pd"
   ]
  },
  {
   "cell_type": "markdown",
   "metadata": {
    "id": "y_oGKej7qZkb"
   },
   "source": [
    "Para isso é necessario criar uma conexão com o serviço AWS. Precisamos autenticar utilizando 3 parametros:\n",
    "\n",
    "1- aws_secret_access_key\n",
    "\n",
    "2- aws_secret_key_id\n",
    "\n",
    "3- aws_session_token\n",
    "\n",
    "Esses parametros mudam todos os dias, precisamos atualizar sempre. Para acessar basta ir na AWS Account>Account Details>AWS CLI\n",
    "\n",
    "https://labs.vocareum.com/main/main.php?m=editor&nav=1&asnid=14334&stepid=14335\n",
    "\n",
    "Documentacao: https://boto3.amazonaws.com/v1/documentation/api/latest/index.html"
   ]
  },
  {
   "cell_type": "code",
   "execution_count": null,
   "metadata": {
    "id": "YXk5TGFDqavP"
   },
   "outputs": [],
   "source": [
    "#OS DADOS ABAIXO MUDAM TODOS OS DIAS A CADA 2 HORAS\n",
    "access = '#####################'\n",
    "secret = '#####################'\n",
    "session ='#####################'"
   ]
  },
  {
   "cell_type": "code",
   "execution_count": null,
   "metadata": {
    "id": "199FDcZ6q2Hb"
   },
   "outputs": [],
   "source": [
    "servico = 's3'\n",
    "client = boto3.client(servico,\n",
    "                      aws_access_key_id = access\n",
    "                      aws_secret_access_key= secret\n",
    "                      aws_session_token= session\n",
    "                      )\n",
    "client.list_buckets()"
   ]
  },
  {
   "cell_type": "markdown",
   "metadata": {
    "id": "0Hsy2JUUrEju"
   },
   "source": [
    "No comando abaixo estamos criando um client (cliente).\n",
    " O client é utilizado para algumas funções mais simples, como criar buckets, listar buckets, listar dados, etc."
   ]
  },
  {
   "cell_type": "code",
   "execution_count": null,
   "metadata": {
    "id": "wmdQUZdlrLHD"
   },
   "outputs": [],
   "source": [
    "#Client - boto3.client(recurso do AWS, Autenticação)\n",
    "client_s3 = boto3.client('s3', aws_access_key_id= access\n",
    "                      aws_secret_access_key= secret\n",
    "                      aws_session_token= session, use_ssl=False)"
   ]
  },
  {
   "cell_type": "markdown",
   "metadata": {
    "id": "2x3vxFVxNvZG"
   },
   "source": [
    " No comando abaixo estamos criando um resource (recurso).\n",
    " O Resource é utilizado para enviar arquivos, ler arquivos, baixar arquivos, etc."
   ]
  },
  {
   "cell_type": "code",
   "execution_count": null,
   "metadata": {
    "id": "GqgI0MxmNuLF"
   },
   "outputs": [],
   "source": [
    "#Resource boto3.resource(recurso do AWS, Autenticação)\n",
    "resource_s3 = boto3.resource('s3', aws_access_key_id= access\n",
    "                      aws_secret_access_key= secret\n",
    "                      aws_session_token= token, use_ssl=False)"
   ]
  },
  {
   "cell_type": "markdown",
   "metadata": {
    "id": "DHlkRokPrvs9"
   },
   "source": [
    "Agora sim, vamos criar um bucket utilizando o python"
   ]
  },
  {
   "cell_type": "code",
   "execution_count": null,
   "metadata": {
    "id": "Av4tBZNFrXhc"
   },
   "outputs": [],
   "source": [
    "#Criando um bucket pelo Python\n",
    "client_s3.create_bucket(Bucket='teste-2021')"
   ]
  },
  {
   "cell_type": "markdown",
   "metadata": {
    "id": "3o0tQQ62OEqS"
   },
   "source": [
    "Agora para carregarmos dados precisamos utilizar o resouce. Vamos fazer isso no codigo abaixo:"
   ]
  },
  {
   "cell_type": "code",
   "execution_count": null,
   "metadata": {
    "id": "aBxlLQoPsOzN"
   },
   "outputs": [],
   "source": [
    "#Utilizando resource. Vamos \"trazer\" o novo bucket para o nosso ambiente de desenvolvimento\n",
    "bucket = resource_s3.Bucket('teste-2021')"
   ]
  },
  {
   "cell_type": "code",
   "execution_count": null,
   "metadata": {
    "id": "KJwiaUvdsa-f"
   },
   "outputs": [],
   "source": [
    "#Download para maquina \n",
    "bucket.download_file(Key = 'brasil/sao_paulo/cities.csv',Filename='sample_data/cidade_sp.csv')"
   ]
  },
  {
   "cell_type": "markdown",
   "metadata": {
    "id": "f0OT93t0vb5d"
   },
   "source": [
    "Ok, Agora vamos imaginar que voce tem alguns dados local e queira subir para o seu novo bucket no AWS"
   ]
  },
  {
   "cell_type": "code",
   "execution_count": null,
   "metadata": {
    "id": "dEmlf7Fyxqnl"
   },
   "outputs": [],
   "source": [
    "                  #Filename é o caminho do arquivo        #o Key é o arq que vai ficar no nosso novo bucket:\n",
    "bucket.upload_file(Filename= 'atividade3/addresses.csv', Key = 'adresses/addresses.cvs')\n",
    "bucket.upload_file(Filename= 'atividade3/airtravel.csv', Key = 'airtravel/airtravel.cvs')\n",
    "bucket.upload_file(Filename= 'atividade3/grades.csv', Key = 'grades/grades.cvs')\n",
    "bucket.upload_file(Filename= 'atividade3/homes.csv', Key= 'homes/homes.csv')"
   ]
  },
  {
   "cell_type": "markdown",
   "metadata": {
    "id": "oGLCDSsFQAWy"
   },
   "source": [
    "OU"
   ]
  },
  {
   "cell_type": "code",
   "execution_count": null,
   "metadata": {
    "id": "IB7kR-grQBeI"
   },
   "outputs": [],
   "source": [
    "import os\n",
    "pasta = \"atividade3\"\n",
    "for i in os.listdir(pasta):\n",
    "  arquivo = pasta+i\n",
    "  print(arquivo)\n",
    "  bucket.upload_file(Filename=arquivo, Key=i)"
   ]
  },
  {
   "cell_type": "markdown",
   "metadata": {
    "id": "3L0OKmWYQIro"
   },
   "source": [
    "Para confirmarmos que subiu, vamos verificar e listar todos os objetos"
   ]
  },
  {
   "cell_type": "code",
   "execution_count": null,
   "metadata": {
    "id": "vpDTBT0xQEKr"
   },
   "outputs": [],
   "source": [
    "#LISTANDO TODOS OS OBJETOS DO BUCKET \n",
    "for objeto in bucket.objects.all():\n",
    "    print(objeto)"
   ]
  }
 ],
 "metadata": {
  "colab": {
   "collapsed_sections": [],
   "name": "S3_python.ipynb",
   "provenance": []
  },
  "kernelspec": {
   "display_name": "Python 3",
   "language": "python",
   "name": "python3"
  },
  "language_info": {
   "codemirror_mode": {
    "name": "ipython",
    "version": 3
   },
   "file_extension": ".py",
   "mimetype": "text/x-python",
   "name": "python",
   "nbconvert_exporter": "python",
   "pygments_lexer": "ipython3",
   "version": "3.7.3"
  }
 },
 "nbformat": 4,
 "nbformat_minor": 1
}
