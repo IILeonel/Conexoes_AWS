{
 "cells": [
  {
   "cell_type": "markdown",
   "metadata": {
    "id": "OKQ5ZIyg9yld"
   },
   "source": [
    "DynamoDb\n",
    "---\n",
    "O Amazon DynamoDB é um banco de dados de\n",
    "valores-chave e documentos que oferece\n",
    "desempenho em milissegundos de um dígito em\n",
    "qualquer escala.\n",
    "\n",
    "Documentacao: https://boto3.amazonaws.com/v1/documentation/api/latest/reference/services/dynamodb.html"
   ]
  },
  {
   "cell_type": "code",
   "execution_count": 1,
   "metadata": {
    "id": "tj1rIktQSPTK"
   },
   "outputs": [
    {
     "name": "stdout",
     "output_type": "stream",
     "text": [
      "Collecting boto3\n",
      "\u001b[?25l  Downloading https://files.pythonhosted.org/packages/8d/07/3587d466bff1b28b2abae91db575e8ad49547e1bd4faeb16253aa615cd88/boto3-1.24.90-py3-none-any.whl (132kB)\n",
      "\u001b[K     |████████████████████████████████| 133kB 848kB/s eta 0:00:01\n",
      "\u001b[?25hCollecting s3transfer<0.7.0,>=0.6.0 (from boto3)\n",
      "\u001b[?25l  Downloading https://files.pythonhosted.org/packages/5e/c6/af903b5fab3f9b5b1e883f49a770066314c6dcceb589cf938d48c89556c1/s3transfer-0.6.0-py3-none-any.whl (79kB)\n",
      "\u001b[K     |████████████████████████████████| 81kB 1.8MB/s eta 0:00:01\n",
      "\u001b[?25hCollecting botocore<1.28.0,>=1.27.90 (from boto3)\n",
      "\u001b[?25l  Downloading https://files.pythonhosted.org/packages/fb/cc/a19807b8504dbc8be5b3ab92f27169a614b929fe121a5deacfeb6136053b/botocore-1.27.90-py3-none-any.whl (9.2MB)\n",
      "\u001b[K     |████████████████████████████████| 9.2MB 651kB/s eta 0:00:01\n",
      "\u001b[?25hCollecting jmespath<2.0.0,>=0.7.1 (from boto3)\n",
      "  Downloading https://files.pythonhosted.org/packages/31/b4/b9b800c45527aadd64d5b442f9b932b00648617eb5d63d2c7a6587b7cafc/jmespath-1.0.1-py3-none-any.whl\n",
      "Collecting urllib3<1.27,>=1.25.4 (from botocore<1.28.0,>=1.27.90->boto3)\n",
      "\u001b[?25l  Downloading https://files.pythonhosted.org/packages/6f/de/5be2e3eed8426f871b170663333a0f627fc2924cc386cd41be065e7ea870/urllib3-1.26.12-py2.py3-none-any.whl (140kB)\n",
      "\u001b[K     |████████████████████████████████| 143kB 686kB/s eta 0:00:01\n",
      "\u001b[?25hRequirement already satisfied: python-dateutil<3.0.0,>=2.1 in /snap/jupyter/6/lib/python3.7/site-packages (from botocore<1.28.0,>=1.27.90->boto3) (2.8.0)\n",
      "Requirement already satisfied: six>=1.5 in /snap/jupyter/6/lib/python3.7/site-packages (from python-dateutil<3.0.0,>=2.1->botocore<1.28.0,>=1.27.90->boto3) (1.12.0)\n",
      "Installing collected packages: urllib3, jmespath, botocore, s3transfer, boto3\n",
      "Successfully installed boto3-1.24.90 botocore-1.27.90 jmespath-1.0.1 s3transfer-0.6.0 urllib3-1.26.12\n"
     ]
    }
   ],
   "source": [
    "#CASO ESTEJA NO COLAB, É IMPORTANTE INSTALAR O BOTO3\n",
    "!pip install boto3"
   ]
  },
  {
   "cell_type": "code",
   "execution_count": null,
   "metadata": {},
   "outputs": [],
   "source": [
    "import boto3"
   ]
  },
  {
   "cell_type": "markdown",
   "metadata": {
    "id": "F_f9iZhZ_0nx"
   },
   "source": [
    "Para isso é necessario criar uma conexão com o serviço AWS. Precisamos autenticar utilizando 3 parametros:\n",
    "\n",
    "1- aws_secret_access_key\n",
    "\n",
    "2- aws_secret_key_id\n",
    "\n",
    "3- aws_session_token\n",
    "\n",
    "Esses parametros mudam todos os dias, precisamos atualizar sempre. Para acessar basta ir na AWS Account>Account Details>AWS CLI\n",
    "\n",
    "https://labs.vocareum.com/main/main.php?m=editor&nav=1&asnid=14334&stepid=14335\n",
    "\n",
    "Documentacao: https://boto3.amazonaws.com/v1/documentation/api/latest/index.html"
   ]
  },
  {
   "cell_type": "code",
   "execution_count": 4,
   "metadata": {
    "id": "T030hd6-_1B1"
   },
   "outputs": [],
   "source": [
    "#OS DADOS ABAIXO MUDAM TODOS OS DIAS A CADA 2 HORAS\n",
    "access = '#######################'\n",
    "secret = '#######################'\n",
    "session ='#######################'"
   ]
  },
  {
   "cell_type": "code",
   "execution_count": null,
   "metadata": {
    "id": "y1DL1YfQ_n5o"
   },
   "outputs": [],
   "source": [
    "#Quando passamos dois asteriscos na chamada de\n",
    "#uma função, estamos indicando que os parametros estão dentro de um dicionario:\n",
    "def multiplica(x,y):\n",
    "    print(x*y)\n",
    "\n",
    "multiplica(3,2)\n",
    "# ou\n",
    "param = {'y':3,'x':2}\n",
    "multiplica(**param) "
   ]
  },
  {
   "cell_type": "markdown",
   "metadata": {
    "id": "nNuUXKa_UwHh"
   },
   "source": [
    "Agora vamos criar um recurso do DynamoDb. Através desse recurso, poderemos criar, ler, manipular as tabelas do DynamoDB"
   ]
  },
  {
   "cell_type": "code",
   "execution_count": null,
   "metadata": {
    "id": "Of9u_gL2Uy02"
   },
   "outputs": [],
   "source": [
    "dynamodb = boto3.resource('dynamodb', aws_access_key_id= access,\n",
    "                        aws_secret_access_key= secret,\n",
    "                        aws_session_token= session\n",
    "                       ,region_name = \"us-east-1\", use_ssl=False)"
   ]
  },
  {
   "cell_type": "markdown",
   "metadata": {
    "id": "QdKnh3KFAMN3"
   },
   "source": [
    "Agora vamos criar uma tabela passando os parametros em formar de dicionario, como funciona o DynamoDB"
   ]
  },
  {
   "cell_type": "code",
   "execution_count": null,
   "metadata": {
    "id": "tQ84MY9PAL1L"
   },
   "outputs": [],
   "source": [
    "table_name = 'pet_20200415' #Nome da tabela\n",
    "#Parametros de criação\n",
    "params = {\n",
    "        'TableName': table_name, #nome da tabela\n",
    "        #Esquema das chaves\n",
    "        'KeySchema': [\n",
    "            {'AttributeName': 'id', 'KeyType': 'HASH'}, # hash será a chave primaria\n",
    "            {'AttributeName': 'nome', 'KeyType': 'RANGE'} #range, não obrigatória, formaria uma chave composta\n",
    "        ],\n",
    "        #Tipo de dados da chave\n",
    "        'AttributeDefinitions': [ \n",
    "            {'AttributeName': 'id', 'AttributeType': 'N'}, #N de number\n",
    "            {'AttributeName': 'nome', 'AttributeType': 'S'} #S de string\n",
    "        ],\n",
    "        #Configuração de escrita e leitura por segundo\n",
    "        'ProvisionedThroughput': {\n",
    "            'ReadCapacityUnits': 3,\n",
    "            'WriteCapacityUnits': 3\n",
    "        }\n",
    "    }\n",
    "    "
   ]
  },
  {
   "cell_type": "markdown",
   "metadata": {
    "id": "wUYN4eM1CE3J"
   },
   "source": [
    "Após criarmos os parametros para a nossa tabela, vamos passar para o create_table, para que a nossa tabela seja finalmente criada no DynamoDb"
   ]
  },
  {
   "cell_type": "code",
   "execution_count": null,
   "metadata": {
    "id": "b-o3MY-4CDHH"
   },
   "outputs": [],
   "source": [
    "dynamodb.create_table(**params)"
   ]
  },
  {
   "cell_type": "markdown",
   "metadata": {
    "id": "fjJioUSACteK"
   },
   "source": [
    "Abaixo, vamos fazer alguns insert na nossa nova tabela no DynamoDB"
   ]
  },
  {
   "cell_type": "code",
   "execution_count": null,
   "metadata": {
    "id": "pur7TH3oBqm0"
   },
   "outputs": [],
   "source": [
    "table = dynamodb.Table(\"pet_20200415\")\n",
    "table.put_item(\n",
    "   Item={\"id\":1,\n",
    "        'nome': 'Jane',\n",
    "        'tipo': 'cachorro',\n",
    "        'raça': 'vira lata'\n",
    "    })\n",
    "table.put_item(\n",
    "   Item={\"id\":2,\n",
    "        'nome': 'Larry',\n",
    "        'tipo': 'lagarto',\n",
    "        'escama': 'lisa',\n",
    "         'chifre':'frontal'\n",
    "    })\n",
    "table.put_item(\n",
    "   Item={\"id\":3,\n",
    "        'nome': 'Marcel',\n",
    "        'tipo': 'macaco',\n",
    "        'especie': 'mandril',\n",
    "         'cor':['verde oliva','cinza']\n",
    "        })"
   ]
  },
  {
   "cell_type": "markdown",
   "metadata": {
    "id": "28IMPLevFyHt"
   },
   "source": [
    "Vamos criar mais uma tabela passando os parametros em formar de dicionario, como funciona o DynamoDB"
   ]
  },
  {
   "cell_type": "code",
   "execution_count": null,
   "metadata": {
    "id": "l0KprrnEFxZH"
   },
   "outputs": [],
   "source": [
    "table_name = 'amigo_20200415' #Nome da tabela\n",
    "#Parametros de criação\n",
    "params = {\n",
    "        'TableName': table_name, #nome da tabela\n",
    "        #Esquema das chaves\n",
    "        'KeySchema': [\n",
    "            {'AttributeName': 'id', 'KeyType': 'HASH'}, # hash será a chave primaria\n",
    "           \n",
    "        ],\n",
    "        #Tipo de dados da chave\n",
    "        'AttributeDefinitions': [ \n",
    "            {'AttributeName': 'id', 'AttributeType': 'S'}, #String\n",
    "        \n",
    "        ],\n",
    "        #Configuração de escrita e leitura por segundo\n",
    "        'ProvisionedThroughput': {\n",
    "            'ReadCapacityUnits': 3,\n",
    "            'WriteCapacityUnits': 3\n",
    "        }\n",
    "    }\n",
    "    "
   ]
  },
  {
   "cell_type": "code",
   "execution_count": null,
   "metadata": {
    "id": "ySXjzJMZGK_9"
   },
   "outputs": [],
   "source": [
    "dynamodb.create_table(**params)"
   ]
  },
  {
   "cell_type": "markdown",
   "metadata": {
    "id": "CA-D8vT_s9q7"
   },
   "source": [
    "Imagine que temos varios a nossa API baixada na nossa maquina e nela existem varios amigos para serem inseridos, mas nao consgeuimos subir um por um, seria muito trabalhaso, então, vamos fazer deste modo.\n",
    "\n",
    "Vamo utilizar a biblioteca uuid que tem o mesmo objetivo do identity no SQL, ou seja, ela vai criar um ID unico"
   ]
  },
  {
   "cell_type": "code",
   "execution_count": null,
   "metadata": {
    "id": "hu7cIAPIsUWg"
   },
   "outputs": [],
   "source": [
    "import json, uuid\n",
    "\n",
    "j = open(\"amigos.json\")\n",
    "amigos = json.load(j)\n",
    "for amigo in amigos:\n",
    "  id = uuid.uuid1()\n",
    "  amigo[\"id\"] = str(id)\n",
    "  print(amigo)\n",
    "\n",
    "#agora de fato vamos inserir na nossa tabela:\n",
    "  table.put_item(Item = amigo)"
   ]
  }
 ],
 "metadata": {
  "colab": {
   "name": "DynamoDb_python.ipynb",
   "provenance": []
  },
  "kernelspec": {
   "display_name": "Python 3",
   "language": "python",
   "name": "python3"
  },
  "language_info": {
   "codemirror_mode": {
    "name": "ipython",
    "version": 3
   },
   "file_extension": ".py",
   "mimetype": "text/x-python",
   "name": "python",
   "nbconvert_exporter": "python",
   "pygments_lexer": "ipython3",
   "version": "3.7.3"
  }
 },
 "nbformat": 4,
 "nbformat_minor": 1
}
